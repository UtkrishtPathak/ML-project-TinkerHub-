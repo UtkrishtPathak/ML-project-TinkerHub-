{
  "nbformat": 4,
  "nbformat_minor": 0,
  "metadata": {
    "colab": {
      "name": "ProjectBash.ipynb",
      "provenance": [],
      "collapsed_sections": []
    },
    "kernelspec": {
      "name": "python3",
      "display_name": "Python 3"
    }
  },
  "cells": [
    {
      "cell_type": "markdown",
      "metadata": {
        "id": "KobYg4T06GLc"
      },
      "source": [
        "**Importing libraries**"
      ]
    },
    {
      "cell_type": "code",
      "metadata": {
        "id": "PMvoiwfmSu9E"
      },
      "source": [
        "import numpy as np\r\n",
        "import pandas as pd\r\n",
        "import matplotlib.pyplot as plt"
      ],
      "execution_count": 94,
      "outputs": []
    },
    {
      "cell_type": "markdown",
      "metadata": {
        "id": "Hp_t4DD-6Kex"
      },
      "source": [
        "**Reading dataset**"
      ]
    },
    {
      "cell_type": "code",
      "metadata": {
        "id": "-SsDT6YAUBW5"
      },
      "source": [
        "dataset=pd.read_csv(\"CarPrice_Assignment.csv\")"
      ],
      "execution_count": 95,
      "outputs": []
    },
    {
      "cell_type": "markdown",
      "metadata": {
        "id": "jz-P6GZJ6QPK"
      },
      "source": [
        "**Preparing the dataset**"
      ]
    },
    {
      "cell_type": "code",
      "metadata": {
        "id": "Du-KZL0kUIjA"
      },
      "source": [
        "dataset.info()"
      ],
      "execution_count": null,
      "outputs": []
    },
    {
      "cell_type": "markdown",
      "metadata": {
        "id": "L1jYjbWi6ij4"
      },
      "source": [
        "There is no null or missing values. So it is not necessary to impute data\r\n",
        "\r\n",
        "\r\n"
      ]
    },
    {
      "cell_type": "code",
      "metadata": {
        "id": "lOEDypPHVJYB"
      },
      "source": [
        "#Converting labels of doornumber & cylindernumber to int.\r\n",
        "dataset.loc[(dataset.doornumber=='two') ,'doornumber'] = 2\r\n",
        "dataset.loc[(dataset.doornumber=='four') ,'doornumber'] = 4\r\n",
        "dataset.loc[(dataset.cylindernumber=='two') ,'cylindernumber'] = 2\r\n",
        "dataset.loc[(dataset.cylindernumber=='three') ,'cylindernumber'] = 3\r\n",
        "dataset.loc[(dataset.cylindernumber=='four') ,'cylindernumber'] = 4\r\n",
        "dataset.loc[(dataset.cylindernumber=='five') ,'cylindernumber'] = 5\r\n",
        "dataset.loc[(dataset.cylindernumber=='six') ,'cylindernumber'] = 6\r\n",
        "dataset.loc[(dataset.cylindernumber=='eight') ,'cylindernumber'] = 8\r\n",
        "dataset.loc[(dataset.cylindernumber=='twelve') ,'cylindernumber'] = 12\r\n",
        "# Converting enginetype dohcv to dohc as dohcv Engine type is not available\r\n",
        "dataset.loc[(dataset.enginetype=='dohcv') ,'enginetype'] = 'dohc'"
      ],
      "execution_count": 103,
      "outputs": []
    },
    {
      "cell_type": "code",
      "metadata": {
        "id": "xkcS6QVgXNT_"
      },
      "source": [
        "X = dataset.iloc[:, 1:-1].values\r\n",
        "y = dataset.iloc[:, -1].values"
      ],
      "execution_count": 104,
      "outputs": []
    },
    {
      "cell_type": "markdown",
      "metadata": {
        "id": "QT6bT_Qx6eJl"
      },
      "source": [
        "**Encoding the dataset**"
      ]
    },
    {
      "cell_type": "code",
      "metadata": {
        "id": "hNXl3BHTYurh"
      },
      "source": [
        "from sklearn.preprocessing import LabelEncoder\r\n",
        "le = LabelEncoder()\r\n",
        "X[:,1]=le.fit_transform(X[:,1])\r\n",
        "X[:,2]=le.fit_transform(X[:,2])\r\n",
        "X[:,3]=le.fit_transform(X[:,3])\r\n",
        "X[:,5]=le.fit_transform(X[:,5])\r\n",
        "X[:,6]=le.fit_transform(X[:,6])\r\n",
        "X[:,7]=le.fit_transform(X[:,7])\r\n",
        "X[:,13]=le.fit_transform(X[:,13])\r\n",
        "X[:,16]=le.fit_transform(X[:,16])"
      ],
      "execution_count": 106,
      "outputs": []
    },
    {
      "cell_type": "code",
      "metadata": {
        "id": "qaweXU01Xuan"
      },
      "source": [
        "from sklearn.compose import ColumnTransformer\r\n",
        "from sklearn.preprocessing import OneHotEncoder\r\n",
        "ct = ColumnTransformer(transformers=[('encoder', OneHotEncoder(), [0])], remainder='passthrough')\r\n",
        "X = np.array(ct.fit_transform(X))"
      ],
      "execution_count": 111,
      "outputs": []
    },
    {
      "cell_type": "markdown",
      "metadata": {
        "id": "xpmDJ9jC63IA"
      },
      "source": [
        "**Splitting the dataset**"
      ]
    },
    {
      "cell_type": "code",
      "metadata": {
        "id": "6zdPp-5pihx7"
      },
      "source": [
        "from sklearn.model_selection import train_test_split\r\n",
        "X_train, X_test, y_train, y_test = train_test_split(X, y, test_size = 1/3, random_state = 0)"
      ],
      "execution_count": 113,
      "outputs": []
    },
    {
      "cell_type": "markdown",
      "metadata": {
        "id": "BJToDMex7BZa"
      },
      "source": [
        "**Scaling the dataset**"
      ]
    },
    {
      "cell_type": "code",
      "metadata": {
        "id": "9YBc_3EmlHlB"
      },
      "source": [
        "from sklearn.preprocessing import StandardScaler\r\n",
        "sc = StandardScaler()\r\n",
        "X_train = sc.fit_transform(X_train)\r\n",
        "X_test = sc.transform(X_test)"
      ],
      "execution_count": 124,
      "outputs": []
    },
    {
      "cell_type": "markdown",
      "metadata": {
        "id": "cc30WNEA7Lo5"
      },
      "source": [
        "**Applying the most suitable algorithm for the regression**"
      ]
    },
    {
      "cell_type": "code",
      "metadata": {
        "id": "2WzeyTPxYXUp"
      },
      "source": [
        "from sklearn.ensemble import RandomForestRegressor\r\n",
        "regressor = RandomForestRegressor(n_estimators = 13, random_state = 0)\r\n",
        "regressor.fit(X_train,y_train)"
      ],
      "execution_count": null,
      "outputs": []
    },
    {
      "cell_type": "markdown",
      "metadata": {
        "id": "YzOsVPqt7SNL"
      },
      "source": [
        "**Comparing the predicted results and the actual results**"
      ]
    },
    {
      "cell_type": "code",
      "metadata": {
        "id": "2DuZZe07mKDk"
      },
      "source": [
        "y_pred = regressor.predict(X_test)\r\n",
        "np.set_printoptions(precision=2)\r\n",
        "print(np.concatenate((y_pred.reshape(len(y_pred),1), y_test.reshape(len(y_test),1)),1))"
      ],
      "execution_count": null,
      "outputs": []
    },
    {
      "cell_type": "markdown",
      "metadata": {
        "id": "dXqCBKai7YVk"
      },
      "source": [
        "Checking the accuracy using MAE(mean average error)"
      ]
    },
    {
      "cell_type": "code",
      "metadata": {
        "colab": {
          "base_uri": "https://localhost:8080/"
        },
        "id": "VTLCSb9n2ZrM",
        "outputId": "77f33fc9-3ece-4b42-f448-33af63484bee"
      },
      "source": [
        "m=0\r\n",
        "n=0\r\n",
        "for x in range(len(y_test)-1):\r\n",
        "  m=m+abs(y_test[x]-y_pred[x])\r\n",
        "  n=n+(y_test[x])\r\n",
        "m=m/len(y_test)\r\n",
        "n=n/len(y_test)\r\n",
        "print(1-m/n)"
      ],
      "execution_count": 190,
      "outputs": [
        {
          "output_type": "stream",
          "text": [
            "0.8766197329883589\n"
          ],
          "name": "stdout"
        }
      ]
    },
    {
      "cell_type": "markdown",
      "metadata": {
        "id": "sb6r5Ry27gmZ"
      },
      "source": [
        "**87% ACCURACY OBTAINED**"
      ]
    },
    {
      "cell_type": "code",
      "metadata": {
        "colab": {
          "base_uri": "https://localhost:8080/",
          "height": 295
        },
        "id": "xpUxvqAB8oTY",
        "outputId": "29beea9c-d726-474d-dcb7-cd0070cb3d05"
      },
      "source": [
        "plt.title(\"Car_price Predictions vs Actual values\") \r\n",
        "plt.xlabel(\"Predicted values\") \r\n",
        "plt.ylabel(\"Actual values\") \r\n",
        "plt.plot(y_pred,y_test) \r\n",
        "plt.show()"
      ],
      "execution_count": 194,
      "outputs": [
        {
          "output_type": "display_data",
          "data": {
            "image/png": "[encoded data removed]",
            "text/plain": [
              "<Figure size 432x288 with 1 Axes>"
            ]
          },
          "metadata": {
            "tags": [],
            "needs_background": "light"
          }
        }
      ]
    }
  ]
}